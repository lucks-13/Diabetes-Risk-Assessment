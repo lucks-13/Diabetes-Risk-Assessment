{
  "cells": [
    {
      "cell_type": "markdown",
      "metadata": {
        "id": "xiWtJ_Zq_cya"
      },
      "source": [
        "# Diabetes Risk Assessment - Patient Segmentation Analysis\n",
        "\n",
        "Comprehensive clustering analysis for diabetes patient risk stratification with advanced visualizations and clinical insights."
      ]
    },
    {
      "cell_type": "markdown",
      "metadata": {
        "id": "ViyETPa4_hU7"
      },
      "source": [
        "# Libraries and Configuration"
      ]
    },
    {
      "cell_type": "code",
      "execution_count": 1,
      "metadata": {
        "id": "wFiBDs3m-IJn"
      },
      "outputs": [],
      "source": [
        "import pandas as pd\n",
        "import numpy as np\n",
        "import matplotlib.pyplot as plt\n",
        "import seaborn as sns\n",
        "from sklearn.preprocessing import StandardScaler, MinMaxScaler\n",
        "from sklearn.cluster import KMeans, AgglomerativeClustering, DBSCAN\n",
        "from sklearn.metrics import silhouette_score, adjusted_rand_score, calinski_harabasz_score\n",
        "from sklearn.decomposition import PCA\n",
        "from sklearn.manifold import TSNE\n",
        "from scipy.cluster.hierarchy import dendrogram, linkage\n",
        "import warnings\n",
        "warnings.filterwarnings('ignore')"
      ]
    },
    {
      "cell_type": "markdown",
      "metadata": {
        "id": "0LuLvwQ7HwBs"
      },
      "source": [
        "# Modern plotting style"
      ]
    },
    {
      "cell_type": "code",
      "execution_count": 2,
      "metadata": {
        "id": "pZIm-DJDHwIp"
      },
      "outputs": [],
      "source": [
        "plt.style.use('dark_background')\n",
        "colors = ['#FF6B6B', '#4ECDC4', '#45B7D1', '#96CEB4', '#FFEAA7', '#DDA0DD', '#98D8C8']\n",
        "plt.rcParams['figure.figsize'] = (14, 8)\n",
        "plt.rcParams['font.size'] = 11\n",
        "plt.rcParams['axes.grid'] = True\n",
        "plt.rcParams['grid.alpha'] = 0.3"
      ]
    },
    {
      "cell_type": "markdown",
      "metadata": {
        "id": "71rL51ibH2Kh"
      },
      "source": [
        "# Dataset Generation and Loading"
      ]
    },
    {
      "cell_type": "code",
      "execution_count": 3,
      "metadata": {
        "colab": {
          "base_uri": "https://localhost:8080/"
        },
        "id": "MlfYIuL1H2QZ",
        "outputId": "94ea3a28-cf0a-4e3f-eb0c-a7d78d0f847b"
      },
      "outputs": [
        {
          "name": "stdout",
          "output_type": "stream",
          "text": [
            "Diabetes Dataset Generated Successfully\n",
            "Dataset Dimensions: (850, 12)\n",
            "Features: ['glucose_level', 'bmi', 'insulin_resistance', 'hba1c', 'triglycerides', 'cholesterol_ratio', 'systolic_bp', 'family_history', 'physical_activity', 'stress_level', 'risk_score', 'diabetes_status']\n",
            "Diabetes Prevalence: 26.5%\n"
          ]
        }
      ],
      "source": [
        "np.random.seed(2024)\n",
        "n_patients = 850\n",
        "\n",
        "patient_data = {\n",
        "    'glucose_level': np.random.gamma(2, 50, n_patients) + 80,\n",
        "    'bmi': np.random.normal(27.5, 6.2, n_patients),\n",
        "    'insulin_resistance': np.random.exponential(2.8, n_patients) + 1,\n",
        "    'hba1c': np.random.normal(6.2, 1.4, n_patients),\n",
        "    'triglycerides': np.random.gamma(3, 40, n_patients) + 80,\n",
        "    'cholesterol_ratio': np.random.normal(4.2, 1.1, n_patients),\n",
        "    'systolic_bp': np.random.normal(135, 18, n_patients),\n",
        "    'family_history': np.random.binomial(1, 0.35, n_patients),\n",
        "    'physical_activity': np.random.gamma(2, 1.5, n_patients),\n",
        "    'stress_level': np.random.uniform(1, 10, n_patients)\n",
        "}\n",
        "\n",
        "for i in range(n_patients):\n",
        "    if patient_data['bmi'][i] > 30:\n",
        "        patient_data['glucose_level'][i] *= np.random.uniform(1.1, 1.4)\n",
        "        patient_data['insulin_resistance'][i] *= np.random.uniform(1.2, 1.6)\n",
        "        patient_data['systolic_bp'][i] += np.random.normal(15, 5)\n",
        "\n",
        "diabetes_df = pd.DataFrame(patient_data)\n",
        "\n",
        "diabetes_df['risk_score'] = (\n",
        "    (diabetes_df['glucose_level'] - 90) * 0.02 +\n",
        "    (diabetes_df['bmi'] - 25) * 0.05 +\n",
        "    diabetes_df['insulin_resistance'] * 0.15 +\n",
        "    (diabetes_df['hba1c'] - 5.7) * 0.3 +\n",
        "    diabetes_df['triglycerides'] * 0.001 +\n",
        "    (diabetes_df['cholesterol_ratio'] - 3.5) * 0.1 +\n",
        "    (diabetes_df['systolic_bp'] - 120) * 0.01 +\n",
        "    diabetes_df['family_history'] * 0.8 +\n",
        "    (10 - diabetes_df['physical_activity']) * 0.05 +\n",
        "    diabetes_df['stress_level'] * 0.08\n",
        ")\n",
        "\n",
        "diabetes_df['risk_score'] = np.clip(diabetes_df['risk_score'], 0, 10)\n",
        "\n",
        "diabetes_df['diabetes_status'] = (diabetes_df['risk_score'] > 5.5).astype(int)\n",
        "\n",
        "print(f\"Diabetes Dataset Generated Successfully\")\n",
        "print(f\"Dataset Dimensions: {diabetes_df.shape}\")\n",
        "print(f\"Features: {list(diabetes_df.columns)}\")\n",
        "print(f\"Diabetes Prevalence: {diabetes_df['diabetes_status'].mean():.1%}\")"
      ]
    }
  ],
  "metadata": {
    "colab": {
      "provenance": []
    },
    "kernelspec": {
      "display_name": "Python 3",
      "name": "python3"
    },
    "language_info": {
      "name": "python"
    }
  },
  "nbformat": 4,
  "nbformat_minor": 0
}
